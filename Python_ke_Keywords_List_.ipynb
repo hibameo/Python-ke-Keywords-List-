{
  "nbformat": 4,
  "nbformat_minor": 0,
  "metadata": {
    "colab": {
      "provenance": [],
      "authorship_tag": "ABX9TyPBVgX2Nlyrj7P7NGcP13HV",
      "include_colab_link": true
    },
    "kernelspec": {
      "name": "python3",
      "display_name": "Python 3"
    },
    "language_info": {
      "name": "python"
    }
  },
  "cells": [
    {
      "cell_type": "markdown",
      "metadata": {
        "id": "view-in-github",
        "colab_type": "text"
      },
      "source": [
        "<a href=\"https://colab.research.google.com/github/hibameo/Python-ke-Keywords-List-/blob/main/Python_ke_Keywords_List_.ipynb\" target=\"_parent\"><img src=\"https://colab.research.google.com/assets/colab-badge.svg\" alt=\"Open In Colab\"/></a>"
      ]
    },
    {
      "cell_type": "markdown",
      "source": [
        "🔹 Python ke Keywords List:"
      ],
      "metadata": {
        "id": "G8e9WgAnP_O7"
      }
    },
    {
      "cell_type": "markdown",
      "source": [
        "Yahan Python ke most common 35 keywords hain:"
      ],
      "metadata": {
        "id": "tj183ofSQGBt"
      }
    },
    {
      "cell_type": "markdown",
      "source": [
        "Keyword\t         :      Meaning\n"
      ],
      "metadata": {
        "id": "OnPhccrHQJh_"
      }
    },
    {
      "cell_type": "markdown",
      "source": [
        "False : Boolean False value\n",
        "\n",
        "\n",
        "True : Boolean True value\n",
        "\n",
        "\n",
        "None\t: Null value\n",
        "\n",
        "\n",
        "and\t: Logical AND operator\n",
        "\n",
        "\n",
        "or :\tLogical OR operator\n",
        "\n",
        "\n",
        "not\t: Logical NOT operator\n",
        "\n",
        "\n",
        "if\t: Conditional statement\n",
        "\n",
        "\n",
        "elif\t: Else if condition\n",
        "\n",
        "\n",
        "else :\tElse condition\n",
        "\n",
        "\n",
        "for : \tLoop iteration\n",
        "\n",
        "\n",
        "while : \tWhile loop\n",
        "\n",
        "\n",
        "break :\tLoop se bahar nikalne ke liye\n",
        "\n",
        "\n",
        "continue : \tLoop ka next iteration start karne ke liye\n",
        "\n",
        "\n",
        "\n",
        "pass\t: Empty statement (placeholder)\n",
        "\n",
        "\n",
        "\n",
        "\n",
        "return\t: Function ka output return karne ke liye\n",
        "\n",
        "\n",
        "\n",
        "def\t: Function define karne ke liye\n",
        "\n",
        "\n",
        "\n",
        "class\t: Class banane ke liye (OOP)\n",
        "\n",
        "\n",
        "\n",
        "try\t:  Exception handling start karne ke liye\n",
        "\n",
        "\n",
        "\n",
        "\n",
        "except :\tError handle karne ke liye\n",
        "\n",
        "\n",
        "\n",
        "finally\t: Exception handling ka final block\n",
        "\n",
        "\n",
        "\n",
        "raise\t: Custom error generate karne ke liye\n",
        "\n",
        "\n",
        "\n",
        "import :\tModule import karne ke liye\n",
        "\n",
        "\n",
        "\n",
        "from :\tModule ke kisi specific part ko import karne ke liye\n",
        "\n",
        "\n",
        "\n",
        "as :\tAlias define karne ke liye\n",
        "\n",
        "\n",
        "\n",
        "with :\tResource management ke liye (e.g., file handling)\n",
        "\n",
        "\n",
        "\n",
        "lambda :\tAnonymous function banane ke liye\n",
        "\n",
        "\n",
        "\n",
        "global :\tVariable ko global scope dene ke liye\n",
        "\n",
        "\n",
        "\n",
        "nonlocal :\tParent function ka variable use karne ke liye\n",
        "\n",
        "\n",
        "\n",
        "assert :\tCondition check karne ke liye debugging ke waqt\n",
        "\n",
        "\n",
        "del : \tVariable ya object delete karne ke liye\n",
        "\n",
        "\n",
        "\n",
        "yield :\tGenerator function create karne ke liye\n",
        "\n",
        "\n",
        "\n",
        "is :\tObject identity check karne ke liye\n",
        "\n",
        "\n",
        "\n",
        "in :\tMembership check karne ke liye (e.g., list me element hai ya nahi)"
      ],
      "metadata": {
        "id": "DY5ou1oYRmhd"
      }
    },
    {
      "cell_type": "markdown",
      "source": [
        "🔹 Examples"
      ],
      "metadata": {
        "id": "eH8TV9PWUgie"
      }
    },
    {
      "cell_type": "code",
      "source": [
        "# if-else ka example\n",
        "x = 10\n",
        "if x > 5:\n",
        "    print(\"x is greater than 5\")\n",
        "else:\n",
        "    print(\"x is 5 or less\")\n",
        "\n",
        "# for loop\n",
        "for i in range(5):\n",
        "    print(i)\n",
        "\n",
        "# function (def, return)\n",
        "def greet(name):\n",
        "    return f\"Hello, {name}!\"\n",
        "\n",
        "print(greet(\"Hiba\"))\n",
        "\n",
        "# try-except for error handling\n",
        "try:\n",
        "    num = int(\"abc\")  # Yeh error dega\n",
        "except ValueError:\n",
        "    print(\"Invalid number!\")\n"
      ],
      "metadata": {
        "colab": {
          "base_uri": "https://localhost:8080/"
        },
        "id": "mXfqMoEvUiUI",
        "outputId": "ec8f1225-7056-4972-e708-7847f74bc9c6"
      },
      "execution_count": 1,
      "outputs": [
        {
          "output_type": "stream",
          "name": "stdout",
          "text": [
            "x is greater than 5\n",
            "0\n",
            "1\n",
            "2\n",
            "3\n",
            "4\n",
            "Hello, Hiba!\n",
            "Invalid number!\n"
          ]
        }
      ]
    }
  ]
}